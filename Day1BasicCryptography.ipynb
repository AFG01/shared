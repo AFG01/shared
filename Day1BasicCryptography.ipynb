{
 "cells": [
  {
   "cell_type": "code",
   "execution_count": 1,
   "metadata": {
    "collapsed": false
   },
   "outputs": [],
   "source": [
    "import numpy as np\n",
    "import string"
   ]
  },
  {
   "cell_type": "code",
   "execution_count": 2,
   "metadata": {
    "collapsed": true
   },
   "outputs": [],
   "source": [
    "encrypted_text1 = \"\"\"\n",
    "RW. XMJWQTHP MTQRJX, BMT BFX ZXZFQQD AJWD QFYJ NS YMJ RTWSNSLX, XFAJ ZUTS YMTXJ\n",
    "STY NSKWJVZJSY THHFXNTSX BMJS MJ BFX ZU FQQ SNLMY, BFX XJFYJI FY YMJ GWJFPKFXY YFGQJ.\n",
    "N XYTTI ZUTS YMJ MJFWYM-WZL FSI UNHPJI ZU YMJ XYNHP BMNHM TZW ANXNYTW MFI QJKY GJMNSI\n",
    "MNR YMJ SNLMY GJKTWJ. NY BFX F KNSJ, YMNHP UNJHJ TK BTTI, GZQGTZX-MJFIJI, TK YMJ XTWY\n",
    "BMNHM NX PSTBS FX F \"UJSFSL QFBDJW.\" OZXY ZSIJW YMJ MJFI BFX F GWTFI XNQAJW GFSI SJFWQD\n",
    "FS NSHM FHWTXX. \"YT OFRJX RTWYNRJW, R.W.H.X., KWTR MNX KWNJSIX TK YMJ H.H.M.,\" BFX\n",
    "JSLWFAJI ZUTS NY, BNYM YMJ IFYJ \"1884.\" NY BFX OZXY XZHM F XYNHP FX YMJ TQI-KFXMNTSJI\n",
    "KFRNQD UWFHYNYNTSJW ZXJI YT HFWWD—INLSNKNJI, XTQNI, FSI WJFXXZWNSL. \n",
    "\n",
    "\"BJQQ, BFYXTS, BMFY IT DTZ RFPJ TK NY?\" \n",
    "\"\"\""
   ]
  },
  {
   "cell_type": "code",
   "execution_count": 3,
   "metadata": {
    "collapsed": false
   },
   "outputs": [],
   "source": [
    "def shift(text, n):\n",
    "    alphabet = list(string.ascii_uppercase)\n",
    "    alphabet_new = np.roll(alphabet, n)\n",
    "    table = str.maketrans(''.join(alphabet), ''.join(alphabet_new))\n",
    "    text = text.translate(table)\n",
    "    return text"
   ]
  },
  {
   "cell_type": "code",
   "execution_count": 6,
   "metadata": {
    "collapsed": false
   },
   "outputs": [
    {
     "name": "stdout",
     "output_type": "stream",
     "text": [
      "\n",
      "MR. SHERLOCK HOLMES, WHO WAS USUALLY VERY LATE IN THE MORNINGS, SAVE UPON THOSE\n",
      "NOT INFREQUENT OCCASIONS WHEN HE WAS UP ALL NIGHT, WAS SEATED AT THE BREAKFAST TABLE.\n",
      "I STOOD UPON THE HEARTH-RUG AND PICKED UP THE STICK WHICH OUR VISITOR HAD LEFT BEHIND\n",
      "HIM THE NIGHT BEFORE. IT WAS A FINE, THICK PIECE OF WOOD, BULBOUS-HEADED, OF THE SORT\n",
      "WHICH IS KNOWN AS A \"PENANG LAWYER.\" JUST UNDER THE HEAD WAS A BROAD SILVER BAND NEARLY\n",
      "AN INCH ACROSS. \"TO JAMES MORTIMER, M.R.C.S., FROM HIS FRIENDS OF THE C.C.H.,\" WAS\n",
      "ENGRAVED UPON IT, WITH THE DATE \"1884.\" IT WAS JUST SUCH A STICK AS THE OLD-FASHIONED\n",
      "FAMILY PRACTITIONER USED TO CARRY—DIGNIFIED, SOLID, AND REASSURING. \n",
      "\n",
      "\"WELL, WATSON, WHAT DO YOU MAKE OF IT?\" \n",
      "\n"
     ]
    }
   ],
   "source": [
    "text = encrypted_text1\n",
    "#shift('WKH FDW VDW RQ WKH PDW', 3)\n",
    "print (shift(text, 5))"
   ]
  }
 ],
 "metadata": {
  "kernelspec": {
   "display_name": "Python 3",
   "language": "python",
   "name": "python3"
  },
  "language_info": {
   "codemirror_mode": {
    "name": "ipython",
    "version": 3
   },
   "file_extension": ".py",
   "mimetype": "text/x-python",
   "name": "python",
   "nbconvert_exporter": "python",
   "pygments_lexer": "ipython3",
   "version": "3.4.0"
  }
 },
 "nbformat": 4,
 "nbformat_minor": 0
}
