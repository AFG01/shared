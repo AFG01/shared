{
 "cells": [
  {
   "cell_type": "code",
   "execution_count": 1,
   "metadata": {
    "collapsed": true
   },
   "outputs": [],
   "source": [
    "import numpy as np\n",
    "%matplotlib inline\n",
    "from matplotlib import pyplot as plt"
   ]
  },
  {
   "cell_type": "code",
   "execution_count": 44,
   "metadata": {
    "collapsed": true
   },
   "outputs": [],
   "source": [
    "def data_file(filename):\n",
    "    data = np.loadtxt(filename)\n",
    "    \n",
    "    x, y, rxx, rh = data[:, 0], data[:, 1], data[:, 3], data[:, 4]\n",
    "    \n",
    "    #dimensions\n",
    "    nx = 0\n",
    "    ny = 0\n",
    "    aux = y[0]\n",
    "    for u in range(0, len(y)):\n",
    "        if y[u] != aux:\n",
    "            ny = ny + 1\n",
    "            aux = y[u]\n",
    "            nx = 0\n",
    "        nx = nx + 1\n",
    "    \n",
    "    #x-y\n",
    "    X = np.zeros([nx])\n",
    "    Y = np.zeros([ny+1]) \n",
    "    for i in range(0, nx):\n",
    "        X[i] = x[i]\n",
    "        \n",
    "    for i in range(0, ny+1):\n",
    "        Y[i] = y[ny*i]\n",
    "    \n",
    "    \n",
    "    #reshape\n",
    "    Rxx = rxx.reshape((ny + 1, nx))\n",
    "    RH = rh.reshape(ny + 1, nx)\n",
    "    \n",
    "    return X, Y, Rxx, RH"
   ]
  },
  {
   "cell_type": "code",
   "execution_count": 155,
   "metadata": {
    "collapsed": false
   },
   "outputs": [],
   "source": [
    "def plot_data(X, Y, Rxx, RH):\n",
    "    \n",
    "    fig = plt.figure(figsize=(16, 5))\n",
    "    plt.subplot(2, 2, 1)\n",
    "    plt.imshow(Rxx, aspect='auto', origin = 'lower', interpolation = 'none', extent=(X.min(), X.max(), Y.min(), Y.max()))\n",
    "    plt.title('Rxx') \n",
    "    plt.colorbar()\n",
    "    \n",
    "    \n",
    "    plt.subplot(2, 2, 2)\n",
    "    plt.imshow(RH, aspect='auto', origin = 'lower', interpolation = 'none', extent=(X.min(), X.max(), Y.min(), Y.max()))\n",
    "    plt.title('RH')\n",
    "    plt.colorbar()\n",
    "    \n",
    "    plt.show()\n",
    "    return"
   ]
  },
  {
   "cell_type": "code",
   "execution_count": 132,
   "metadata": {
    "collapsed": true
   },
   "outputs": [],
   "source": [
    "def slices(x, y, X, Y, Z, name):\n",
    "    \n",
    "    xindex, yindex = np.abs(X-x).argmin(), np.abs(Y-y).argmin()\n",
    "    \n",
    "    \n",
    "    fig = plt.figure(figsize=(16, 5))\n",
    "    plt.subplot(2, 2, 1)\n",
    "    plt.plot(X, Z[yindex, :])\n",
    "    plt.title(name +'\\n slice at y={}'.format(y)) \n",
    "\n",
    "    plt.subplot(2, 2, 2)\n",
    "    plt.plot(Y, Z[:, xindex])\n",
    "    plt.title(name +'\\n slice at x={}'.format(x))\n",
    "    \n",
    "    plt.show()\n",
    "    return"
   ]
  },
  {
   "cell_type": "code",
   "execution_count": 163,
   "metadata": {
    "collapsed": true
   },
   "outputs": [],
   "source": [
    "def mslices(slices, X, Y, Rxx, RH):\n",
    "    fig = plt.figure(figsize=(16, 5))\n",
    "    for i in range(0, len(slices)):\n",
    "        yindex = np.abs(Y-slices[i]).argmin()\n",
    "        plt.plot(X, Rxx[yindex, :], label = 'Rxx, y = {}'.format(slices[i]))\n",
    "        plt.plot(X, RH[yindex, :], '--', label = 'RH, y = {}'.format(slices[i]))\n",
    "    \n",
    "    plt.legend()\n",
    "    plt.grid()\n",
    "    plt.show()\n",
    "    return"
   ]
  },
  {
   "cell_type": "code",
   "execution_count": null,
   "metadata": {
    "collapsed": true
   },
   "outputs": [],
   "source": []
  }
 ],
 "metadata": {
  "kernelspec": {
   "display_name": "Python 3",
   "language": "python",
   "name": "python3"
  },
  "language_info": {
   "codemirror_mode": {
    "name": "ipython",
    "version": 3
   },
   "file_extension": ".py",
   "mimetype": "text/x-python",
   "name": "python",
   "nbconvert_exporter": "python",
   "pygments_lexer": "ipython3",
   "version": "3.4.0"
  }
 },
 "nbformat": 4,
 "nbformat_minor": 0
}
