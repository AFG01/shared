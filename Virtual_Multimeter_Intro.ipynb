{
 "cells": [
  {
   "cell_type": "code",
   "execution_count": 9,
   "metadata": {
    "collapsed": false
   },
   "outputs": [],
   "source": [
    "import socket\n",
    " \n",
    "host=\"131.180.32.69\"\n",
    "port = 5611\n",
    "bufsize=1024"
   ]
  },
  {
   "cell_type": "code",
   "execution_count": null,
   "metadata": {
    "collapsed": true
   },
   "outputs": [],
   "source": [
    "message=bytes('READ:VOL', 'utf-8')\n",
    "\n",
    "'''\n",
    "Four Point Measurement\n",
    "Commands accepted:\n",
    "\n",
    "READ:\n",
    "    VOL\n",
    "    RES\n",
    "    CUR\n",
    "\n",
    "SET:\n",
    "    CUR\n",
    "'''\n",
    "r=''\n",
    "sock = socket.socket(socket.AF_INET, socket.SOCK_STREAM)\n",
    "sock.connect((host, port))\n",
    "sock.send(message)\n",
    "r = sock.recv(bufsize)\n",
    "sock.shutdown(2)\n",
    "sock.close()\n",
    "\n",
    "print(r)"
   ]
  },
  {
   "cell_type": "code",
   "execution_count": 117,
   "metadata": {
    "collapsed": false
   },
   "outputs": [],
   "source": [
    "class four_point_meas(object):\n",
    "    \"\"\"measurement current set in A\"\"\"\n",
    "    def __init__(self, host, port, bufsize, current):\n",
    "        self.host = host\n",
    "        self.port = port\n",
    "        self.bufsize = bufsize\n",
    "        self.current = '{} A'.format(current)\n",
    "        \n",
    "        message=bytes('SET:CUR:{}A'.format(current), 'utf-8')\n",
    "        sock = socket.socket(socket.AF_INET, socket.SOCK_STREAM)\n",
    "        sock.connect((host, port))\n",
    "        sock.send(message)\n",
    "        sock.shutdown(2)\n",
    "        sock.close()\n",
    "        \n",
    "        def get_num(x):\n",
    "            return float(''.join(ele for ele in x if ele.isdigit() or ele == '.'))\n",
    "        \n",
    "    def measure_voltage(self):\n",
    "        message=bytes('READ:VOL', 'utf-8')\n",
    "        \n",
    "        v = ''\n",
    "        sock = socket.socket(socket.AF_INET, socket.SOCK_STREAM)\n",
    "        sock.connect((host, port))\n",
    "        sock.send(message)\n",
    "        v = sock.recv(bufsize)\n",
    "        sock.shutdown(2)\n",
    "        sock.close()\n",
    "        \n",
    "        try: \n",
    "            output = get_num(v.decode('utf -8'))\n",
    "        except ValueError:\n",
    "            print(\"Oops! Something went wrong! Try again...\")\n",
    "            return\n",
    "            \n",
    "        return output\n",
    "    \n",
    "    def measure_resistance(self):\n",
    "        message=bytes('READ:RES', 'utf-8')\n",
    "        \n",
    "        r = ''\n",
    "        sock = socket.socket(socket.AF_INET, socket.SOCK_STREAM)\n",
    "        sock.connect((host, port))\n",
    "        sock.send(message)\n",
    "        r = sock.recv(bufsize)\n",
    "        sock.shutdown(2)\n",
    "        sock.close()\n",
    "        \n",
    "        try: \n",
    "            output = get_num(r.decode('utf -8'))\n",
    "        except ValueError:\n",
    "            print(\"Oops! Something went wrong! Try again...\")\n",
    "            return\n",
    "            \n",
    "        return output\n",
    "    \n",
    "    def measure_current(self):\n",
    "        message=bytes('READ:CUR', 'utf-8')\n",
    "        \n",
    "        c = ''\n",
    "        sock = socket.socket(socket.AF_INET, socket.SOCK_STREAM)\n",
    "        sock.connect((host, port))\n",
    "        sock.send(message)\n",
    "        c = sock.recv(bufsize)\n",
    "        sock.shutdown(2)\n",
    "        sock.close()\n",
    "        \n",
    "        try: \n",
    "            output = get_num(c.decode('utf -8'))\n",
    "        except ValueError:\n",
    "            print(\"Oops! Something went wrong! Try again...\")\n",
    "            return\n",
    "            \n",
    "        return output\n",
    "        "
   ]
  },
  {
   "cell_type": "code",
   "execution_count": 119,
   "metadata": {
    "collapsed": false
   },
   "outputs": [
    {
     "name": "stdout",
     "output_type": "stream",
     "text": [
      "1.78649114755\n",
      "0.6\n",
      "3.1415926535\n"
     ]
    }
   ],
   "source": [
    "import socket\n",
    " \n",
    "host=\"131.180.32.69\"\n",
    "port = 5611\n",
    "bufsize=1024\n",
    "\n",
    "experiment = four_point_meas(host=\"131.180.32.69\", port = 5611, bufsize=1024, current=0.6)\n",
    "print(experiment.measure_voltage())\n",
    "print(experiment.measure_current())\n",
    "print(experiment.measure_resistance())"
   ]
  },
  {
   "cell_type": "code",
   "execution_count": null,
   "metadata": {
    "collapsed": true
   },
   "outputs": [],
   "source": []
  }
 ],
 "metadata": {
  "kernelspec": {
   "display_name": "Python 3",
   "language": "python",
   "name": "python3"
  },
  "language_info": {
   "codemirror_mode": {
    "name": "ipython",
    "version": 3
   },
   "file_extension": ".py",
   "mimetype": "text/x-python",
   "name": "python",
   "nbconvert_exporter": "python",
   "pygments_lexer": "ipython3",
   "version": "3.4.0"
  }
 },
 "nbformat": 4,
 "nbformat_minor": 0
}
